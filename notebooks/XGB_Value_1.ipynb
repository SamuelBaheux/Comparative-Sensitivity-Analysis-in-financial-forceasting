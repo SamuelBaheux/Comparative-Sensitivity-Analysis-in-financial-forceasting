{
 "cells": [
  {
   "cell_type": "code",
   "execution_count": 1,
   "id": "initial_id",
   "metadata": {
    "collapsed": true,
    "ExecuteTime": {
     "end_time": "2024-01-31T17:13:35.459715Z",
     "start_time": "2024-01-31T17:13:34.543113Z"
    }
   },
   "outputs": [],
   "source": [
    "import pandas as pd\n",
    "import matplotlib.pyplot as plt\n",
    "import plotly.graph_objs as go\n",
    "import sys\n",
    "\n",
    "sys.path.append(\"../scripts\")\n",
    "from XGBoost import PortfolioPredictionXGBoost_value\n",
    "from LSTM_utils import compute_errors"
   ]
  },
  {
   "cell_type": "markdown",
   "source": [
    "# Import des données"
   ],
   "metadata": {
    "collapsed": false
   },
   "id": "3eebcaff617d52f4"
  },
  {
   "cell_type": "code",
   "execution_count": 2,
   "outputs": [],
   "source": [
    "titres = {\"Amazon\": pd.read_csv(\"../data/AMZN.csv\"),\n",
    "          \"Berkshire\": pd.read_csv(\"../data/BRK-B.csv\"),\n",
    "          \"Google\": pd.read_csv(\"../data/GOOG.csv\"),\n",
    "          \"Microsoft\": pd.read_csv(\"../data/MSFT.csv\"),\n",
    "          \"Exxon\": pd.read_csv(\"../data/XOM.csv\")}"
   ],
   "metadata": {
    "collapsed": false,
    "ExecuteTime": {
     "end_time": "2024-01-31T17:13:36.111975Z",
     "start_time": "2024-01-31T17:13:36.095762Z"
    }
   },
   "id": "abf0df7cf5c7f0fc"
  },
  {
   "cell_type": "markdown",
   "source": [
    "# Modélisation"
   ],
   "metadata": {
    "collapsed": false
   },
   "id": "ed0573bf916e1b5a"
  },
  {
   "cell_type": "code",
   "execution_count": 3,
   "outputs": [],
   "source": [
    "XGB = PortfolioPredictionXGBoost_value(titres, \n",
    "                                       window_size = 30, \n",
    "                                       horizon_prev = 1, \n",
    "                                       test_size = 0.8)"
   ],
   "metadata": {
    "collapsed": false,
    "ExecuteTime": {
     "end_time": "2024-01-31T17:13:36.716877Z",
     "start_time": "2024-01-31T17:13:36.713610Z"
    }
   },
   "id": "6611e348111281b7"
  },
  {
   "cell_type": "code",
   "execution_count": null,
   "outputs": [
    {
     "name": "stderr",
     "output_type": "stream",
     "text": [
      "  0%|          | 0/5 [00:00<?, ?it/s]"
     ]
    }
   ],
   "source": [
    "predictions, ptf_avg = XGB.predict_avg_portfolio()"
   ],
   "metadata": {
    "collapsed": false,
    "is_executing": true,
    "ExecuteTime": {
     "start_time": "2024-01-31T17:13:37.122499Z"
    }
   },
   "id": "73adaf05b6e3bca6"
  },
  {
   "cell_type": "code",
   "execution_count": null,
   "outputs": [],
   "source": [],
   "metadata": {
    "collapsed": false
   },
   "id": "795e5ed281fc44de"
  }
 ],
 "metadata": {
  "kernelspec": {
   "display_name": "Python 3",
   "language": "python",
   "name": "python3"
  },
  "language_info": {
   "codemirror_mode": {
    "name": "ipython",
    "version": 2
   },
   "file_extension": ".py",
   "mimetype": "text/x-python",
   "name": "python",
   "nbconvert_exporter": "python",
   "pygments_lexer": "ipython2",
   "version": "2.7.6"
  }
 },
 "nbformat": 4,
 "nbformat_minor": 5
}

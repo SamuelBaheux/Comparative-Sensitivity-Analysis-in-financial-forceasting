{
 "cells": [
  {
   "cell_type": "code",
   "execution_count": 9,
   "outputs": [],
   "source": [
    "import pandas as pd\n",
    "import numpy as np\n",
    "from keras import Sequential\n",
    "from keras.layers import Dense, LSTM\n",
    "from sklearn.preprocessing import StandardScaler\n",
    "from tqdm import tqdm\n",
    "from sklearn.model_selection import TimeSeriesSplit"
   ],
   "metadata": {
    "collapsed": false,
    "ExecuteTime": {
     "end_time": "2024-01-28T14:40:47.865690Z",
     "start_time": "2024-01-28T14:40:47.856886Z"
    }
   },
   "id": "89dbcf661ea9a32e"
  },
  {
   "cell_type": "code",
   "execution_count": 10,
   "outputs": [],
   "source": [
    "def prepare_data(data, n_steps):\n",
    "    x, y = [], []\n",
    "    for i in range(len(data) - n_steps):\n",
    "        x.append(data[i:(i + n_steps), 0])\n",
    "        y.append(data[i + n_steps, 0])\n",
    "    return np.array(x), np.array(y)"
   ],
   "metadata": {
    "collapsed": false,
    "ExecuteTime": {
     "end_time": "2024-01-28T14:40:59.309972Z",
     "start_time": "2024-01-28T14:40:59.301901Z"
    }
   },
   "id": "5a013e2bded6227a"
  },
  {
   "cell_type": "code",
   "execution_count": 11,
   "outputs": [],
   "source": [
    "titres = {\"Apple\": pd.read_csv(\"../data/AAPL.csv\"),\n",
    "          \"Amazon\": pd.read_csv(\"../data/AMZN.csv\"),\n",
    "          \"Berkshire\": pd.read_csv(\"../data/BRK-B.csv\"),\n",
    "          \"Google\": pd.read_csv(\"../data/GOOG.csv\"),\n",
    "          \"Meta\":  pd.read_csv(\"../data/META.csv\"),\n",
    "          \"Microsoft\": pd.read_csv(\"../data/MSFT.csv\"),\n",
    "          \"Nvidia\": pd.read_csv(\"../data/NVDA.csv\"),\n",
    "          \"Tesla\": pd.read_csv(\"../data/TSLA.csv\"),\n",
    "          \"UnitedHealth\": pd.read_csv(\"../data/UNH.csv\"),\n",
    "          \"Exxon\": pd.read_csv(\"../data/XOM.csv\")}"
   ],
   "metadata": {
    "collapsed": false,
    "ExecuteTime": {
     "end_time": "2024-01-28T14:41:00.436996Z",
     "start_time": "2024-01-28T14:41:00.397010Z"
    }
   },
   "id": "b5c1a5540b82e113"
  },
  {
   "cell_type": "code",
   "execution_count": 12,
   "id": "initial_id",
   "metadata": {
    "collapsed": true,
    "ExecuteTime": {
     "end_time": "2024-01-28T14:41:02.118391Z",
     "start_time": "2024-01-28T14:41:02.110106Z"
    }
   },
   "outputs": [],
   "source": [
    "class PortfolioPredicitionsLSTM():\n",
    "    def __init__(self, stock_dict, n_steps, epochs):\n",
    "        self.stock_dict = stock_dict\n",
    "        self.splitter = TimeSeriesSplit(n_splits=2)\n",
    "        self.n_steps = n_steps\n",
    "        self.epochs = epochs\n",
    "\n",
    "    def split_data(self, stock):\n",
    "        returns = stock['Close'].values.reshape(-1, 1)\n",
    "        self.train, self.test = self.splitter.split(returns)\n",
    "\n",
    "        self.returns_train = returns[self.train[1]]\n",
    "        self.returns_test = returns[self.test[1]]\n",
    "\n",
    "    def scale_data(self):\n",
    "        self.scaler = StandardScaler()\n",
    "        self.returns_train_scaled = self.scaler.fit_transform(self.returns_train)\n",
    "        self.returns_test_scaled = self.scaler.transform(self.returns_test)\n",
    "\n",
    "    def reshape_data(self):\n",
    "        self.x_train, self.y_train = prepare_data(self.returns_train_scaled,self.n_steps)\n",
    "        self.x_test, self.y_test = prepare_data(self.returns_test_scaled, self.n_steps)\n",
    "\n",
    "        self.x_train = np.reshape(self.x_train, (self.x_train.shape[0], self.x_train.shape[1], 1))\n",
    "        self.x_test = np.reshape(self.x_test, (self.x_test.shape[0], self.x_test.shape[1], 1))\n",
    "\n",
    "    def create_lstm_model(self, input_shape):\n",
    "        model = Sequential()\n",
    "        model.add(LSTM(units=50, return_sequences=True, input_shape=input_shape))\n",
    "        model.add(LSTM(units=50))\n",
    "        model.add(Dense(units=1))\n",
    "\n",
    "        model.compile(optimizer='adam', loss='mean_squared_error')\n",
    "\n",
    "        return model\n",
    "\n",
    "    def fit_model(self):\n",
    "        self.model = self.create_lstm_model((self.x_train.shape[1], 1))\n",
    "        self.model.fit(self.x_train, self.y_train, epochs=self.epochs, batch_size=16, verbose=0)\n",
    "\n",
    "    def predict(self):\n",
    "        self.test_predictions = self.model.predict(self.x_test, verbose=0)\n",
    "        self.test_predictions = self.scaler.inverse_transform(self.test_predictions)\n",
    "\n",
    "    def compute_portfolio_value(self, stock):\n",
    "        temp = stock[[\"Date\", \"Close\"]].loc[self.test[1][self.n_steps:]]\n",
    "\n",
    "        #temp[\"Returns\"] = self.returns_test[self.n_steps:]\n",
    "        temp[\"Prediction\"] = self.test_predictions\n",
    "        temp.drop(columns=\"Close\", inplace=True)\n",
    "\n",
    "        #temp['Real_Portfolio_Value'] = 1000 * (1 + temp['Returns']).cumprod()\n",
    "        #temp['Predicted_Portfolio_Value'] = 1000 * (1 + temp['Prediction']).cumprod()\n",
    "\n",
    "        return(temp)\n",
    "\n",
    "    def run_model_stock(self, stock):\n",
    "        self.split_data(stock)\n",
    "        self.scale_data()\n",
    "        self.reshape_data()\n",
    "        self.fit_model()\n",
    "        self.predict()\n",
    "        stock_prediction = self.compute_portfolio_value(stock)\n",
    "        return(stock_prediction)\n",
    "\n",
    "    def predict_portfolio(self):\n",
    "        self.predictions_dic = {}\n",
    "\n",
    "        for key in tqdm(self.stock_dict) :\n",
    "            self.predictions_dic[key] = self.run_model_stock(self.stock_dict[key])\n",
    "\n",
    "    def compute_portfolio(self):\n",
    "        dfs_to_concat = []\n",
    "\n",
    "        for name, df in self.predictions_dic.items():\n",
    "            df['Date'] = pd.to_datetime(df['Date'])\n",
    "\n",
    "            dfs_to_concat.append(df[['Date', 'Prediction', 'Close']])\n",
    "\n",
    "        portfolio_predictions = pd.concat(dfs_to_concat)\n",
    "\n",
    "        self.portfolio_avg_predictions = portfolio_predictions.groupby('Date').mean().reset_index()\n",
    "\n",
    "    def predict_avg_portfolio(self):\n",
    "        self.predict_portfolio()\n",
    "        self.compute_portfolio()\n",
    "        return(self.predictions_dic, self.portfolio_avg_predictions)\n"
   ]
  },
  {
   "cell_type": "code",
   "execution_count": 13,
   "outputs": [],
   "source": [
    "LSTM = PortfolioPredicitionsLSTM(titres, 20, 20)"
   ],
   "metadata": {
    "collapsed": false,
    "ExecuteTime": {
     "end_time": "2024-01-28T14:41:02.687588Z",
     "start_time": "2024-01-28T14:41:02.681987Z"
    }
   },
   "id": "2fa173a6b3b84f89"
  },
  {
   "cell_type": "code",
   "execution_count": 14,
   "outputs": [
    {
     "name": "stderr",
     "output_type": "stream",
     "text": [
      "  0%|          | 0/10 [00:00<?, ?it/s]\n"
     ]
    },
    {
     "ename": "TypeError",
     "evalue": "'PortfolioPredicitionsLSTM' object is not callable",
     "output_type": "error",
     "traceback": [
      "\u001B[0;31m---------------------------------------------------------------------------\u001B[0m",
      "\u001B[0;31mTypeError\u001B[0m                                 Traceback (most recent call last)",
      "Cell \u001B[0;32mIn[14], line 1\u001B[0m\n\u001B[0;32m----> 1\u001B[0m predictions, ptf_avg \u001B[38;5;241m=\u001B[39m \u001B[43mLSTM\u001B[49m\u001B[38;5;241;43m.\u001B[39;49m\u001B[43mpredict_avg_portfolio\u001B[49m\u001B[43m(\u001B[49m\u001B[43m)\u001B[49m\n",
      "Cell \u001B[0;32mIn[12], line 85\u001B[0m, in \u001B[0;36mPortfolioPredicitionsLSTM.predict_avg_portfolio\u001B[0;34m(self)\u001B[0m\n\u001B[1;32m     84\u001B[0m \u001B[38;5;28;01mdef\u001B[39;00m \u001B[38;5;21mpredict_avg_portfolio\u001B[39m(\u001B[38;5;28mself\u001B[39m):\n\u001B[0;32m---> 85\u001B[0m     \u001B[38;5;28;43mself\u001B[39;49m\u001B[38;5;241;43m.\u001B[39;49m\u001B[43mpredict_portfolio\u001B[49m\u001B[43m(\u001B[49m\u001B[43m)\u001B[49m\n\u001B[1;32m     86\u001B[0m     \u001B[38;5;28mself\u001B[39m\u001B[38;5;241m.\u001B[39mcompute_portfolio()\n\u001B[1;32m     87\u001B[0m     \u001B[38;5;28;01mreturn\u001B[39;00m(\u001B[38;5;28mself\u001B[39m\u001B[38;5;241m.\u001B[39mpredictions_dic, \u001B[38;5;28mself\u001B[39m\u001B[38;5;241m.\u001B[39mportfolio_avg_predictions)\n",
      "Cell \u001B[0;32mIn[12], line 70\u001B[0m, in \u001B[0;36mPortfolioPredicitionsLSTM.predict_portfolio\u001B[0;34m(self)\u001B[0m\n\u001B[1;32m     67\u001B[0m \u001B[38;5;28mself\u001B[39m\u001B[38;5;241m.\u001B[39mpredictions_dic \u001B[38;5;241m=\u001B[39m {}\n\u001B[1;32m     69\u001B[0m \u001B[38;5;28;01mfor\u001B[39;00m key \u001B[38;5;129;01min\u001B[39;00m tqdm(\u001B[38;5;28mself\u001B[39m\u001B[38;5;241m.\u001B[39mstock_dict) :\n\u001B[0;32m---> 70\u001B[0m     \u001B[38;5;28mself\u001B[39m\u001B[38;5;241m.\u001B[39mpredictions_dic[key] \u001B[38;5;241m=\u001B[39m \u001B[38;5;28;43mself\u001B[39;49m\u001B[38;5;241;43m.\u001B[39;49m\u001B[43mrun_model_stock\u001B[49m\u001B[43m(\u001B[49m\u001B[38;5;28;43mself\u001B[39;49m\u001B[38;5;241;43m.\u001B[39;49m\u001B[43mstock_dict\u001B[49m\u001B[43m[\u001B[49m\u001B[43mkey\u001B[49m\u001B[43m]\u001B[49m\u001B[43m)\u001B[49m\n",
      "Cell \u001B[0;32mIn[12], line 61\u001B[0m, in \u001B[0;36mPortfolioPredicitionsLSTM.run_model_stock\u001B[0;34m(self, stock)\u001B[0m\n\u001B[1;32m     59\u001B[0m \u001B[38;5;28mself\u001B[39m\u001B[38;5;241m.\u001B[39mscale_data()\n\u001B[1;32m     60\u001B[0m \u001B[38;5;28mself\u001B[39m\u001B[38;5;241m.\u001B[39mreshape_data()\n\u001B[0;32m---> 61\u001B[0m \u001B[38;5;28;43mself\u001B[39;49m\u001B[38;5;241;43m.\u001B[39;49m\u001B[43mfit_model\u001B[49m\u001B[43m(\u001B[49m\u001B[43m)\u001B[49m\n\u001B[1;32m     62\u001B[0m \u001B[38;5;28mself\u001B[39m\u001B[38;5;241m.\u001B[39mpredict()\n\u001B[1;32m     63\u001B[0m stock_prediction \u001B[38;5;241m=\u001B[39m \u001B[38;5;28mself\u001B[39m\u001B[38;5;241m.\u001B[39mcompute_portfolio_value(stock)\n",
      "Cell \u001B[0;32mIn[12], line 38\u001B[0m, in \u001B[0;36mPortfolioPredicitionsLSTM.fit_model\u001B[0;34m(self)\u001B[0m\n\u001B[1;32m     37\u001B[0m \u001B[38;5;28;01mdef\u001B[39;00m \u001B[38;5;21mfit_model\u001B[39m(\u001B[38;5;28mself\u001B[39m):\n\u001B[0;32m---> 38\u001B[0m     \u001B[38;5;28mself\u001B[39m\u001B[38;5;241m.\u001B[39mmodel \u001B[38;5;241m=\u001B[39m \u001B[38;5;28;43mself\u001B[39;49m\u001B[38;5;241;43m.\u001B[39;49m\u001B[43mcreate_lstm_model\u001B[49m\u001B[43m(\u001B[49m\u001B[43m(\u001B[49m\u001B[38;5;28;43mself\u001B[39;49m\u001B[38;5;241;43m.\u001B[39;49m\u001B[43mx_train\u001B[49m\u001B[38;5;241;43m.\u001B[39;49m\u001B[43mshape\u001B[49m\u001B[43m[\u001B[49m\u001B[38;5;241;43m1\u001B[39;49m\u001B[43m]\u001B[49m\u001B[43m,\u001B[49m\u001B[43m \u001B[49m\u001B[38;5;241;43m1\u001B[39;49m\u001B[43m)\u001B[49m\u001B[43m)\u001B[49m\n\u001B[1;32m     39\u001B[0m     \u001B[38;5;28mself\u001B[39m\u001B[38;5;241m.\u001B[39mmodel\u001B[38;5;241m.\u001B[39mfit(\u001B[38;5;28mself\u001B[39m\u001B[38;5;241m.\u001B[39mx_train, \u001B[38;5;28mself\u001B[39m\u001B[38;5;241m.\u001B[39my_train, epochs\u001B[38;5;241m=\u001B[39m\u001B[38;5;28mself\u001B[39m\u001B[38;5;241m.\u001B[39mepochs, batch_size\u001B[38;5;241m=\u001B[39m\u001B[38;5;241m16\u001B[39m, verbose\u001B[38;5;241m=\u001B[39m\u001B[38;5;241m0\u001B[39m)\n",
      "Cell \u001B[0;32mIn[12], line 29\u001B[0m, in \u001B[0;36mPortfolioPredicitionsLSTM.create_lstm_model\u001B[0;34m(self, input_shape)\u001B[0m\n\u001B[1;32m     27\u001B[0m \u001B[38;5;28;01mdef\u001B[39;00m \u001B[38;5;21mcreate_lstm_model\u001B[39m(\u001B[38;5;28mself\u001B[39m, input_shape):\n\u001B[1;32m     28\u001B[0m     model \u001B[38;5;241m=\u001B[39m Sequential()\n\u001B[0;32m---> 29\u001B[0m     model\u001B[38;5;241m.\u001B[39madd(\u001B[43mLSTM\u001B[49m\u001B[43m(\u001B[49m\u001B[43munits\u001B[49m\u001B[38;5;241;43m=\u001B[39;49m\u001B[38;5;241;43m50\u001B[39;49m\u001B[43m,\u001B[49m\u001B[43m \u001B[49m\u001B[43mreturn_sequences\u001B[49m\u001B[38;5;241;43m=\u001B[39;49m\u001B[38;5;28;43;01mTrue\u001B[39;49;00m\u001B[43m,\u001B[49m\u001B[43m \u001B[49m\u001B[43minput_shape\u001B[49m\u001B[38;5;241;43m=\u001B[39;49m\u001B[43minput_shape\u001B[49m\u001B[43m)\u001B[49m)\n\u001B[1;32m     30\u001B[0m     model\u001B[38;5;241m.\u001B[39madd(LSTM(units\u001B[38;5;241m=\u001B[39m\u001B[38;5;241m50\u001B[39m))\n\u001B[1;32m     31\u001B[0m     model\u001B[38;5;241m.\u001B[39madd(Dense(units\u001B[38;5;241m=\u001B[39m\u001B[38;5;241m1\u001B[39m))\n",
      "\u001B[0;31mTypeError\u001B[0m: 'PortfolioPredicitionsLSTM' object is not callable"
     ]
    }
   ],
   "source": [
    "predictions, ptf_avg = LSTM.predict_avg_portfolio()"
   ],
   "metadata": {
    "collapsed": false,
    "ExecuteTime": {
     "end_time": "2024-01-28T14:41:03.144014Z",
     "start_time": "2024-01-28T14:41:03.058462Z"
    }
   },
   "id": "4a8f34254ddd13a8"
  }
 ],
 "metadata": {
  "kernelspec": {
   "display_name": "Python 3",
   "language": "python",
   "name": "python3"
  },
  "language_info": {
   "codemirror_mode": {
    "name": "ipython",
    "version": 2
   },
   "file_extension": ".py",
   "mimetype": "text/x-python",
   "name": "python",
   "nbconvert_exporter": "python",
   "pygments_lexer": "ipython2",
   "version": "2.7.6"
  }
 },
 "nbformat": 4,
 "nbformat_minor": 5
}
